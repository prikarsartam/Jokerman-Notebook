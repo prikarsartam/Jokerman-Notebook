{
  "nbformat": 4,
  "nbformat_minor": 0,
  "metadata": {
    "colab": {
      "name": "NLP-01 : 2 : sentiment_classifier_training.ipynb",
      "provenance": []
    },
    "kernelspec": {
      "name": "python3",
      "display_name": "Python 3"
    },
    "language_info": {
      "name": "python"
    }
  },
  "cells": [
    {
      "cell_type": "code",
      "execution_count": 28,
      "metadata": {
        "id": "gKRC-B1ETWS5"
      },
      "outputs": [],
      "source": [
        "import json\n",
        "import tensorflow as tf\n",
        "\n",
        "from tensorflow.keras.preprocessing.text import Tokenizer\n",
        "from tensorflow.keras.preprocessing.sequence import pad_sequences\n"
      ]
    },
    {
      "cell_type": "code",
      "source": [
        "vocab_size = 10000\n",
        "embedding_dim = 20\n",
        "max_length = 200\n",
        "trunc_type='post'\n",
        "padding_type='post'\n",
        "oov_tok = \"<OOV>\"\n",
        "training_size = 20000"
      ],
      "metadata": {
        "id": "w2YfePDPVtpZ"
      },
      "execution_count": 1,
      "outputs": []
    },
    {
      "cell_type": "code",
      "source": [
        "!wget --no-check-certificate \\  # get the training dataset from my github repo\n",
        "    https://raw.githubusercontent.com/prikarsartam/training_datasets/main/sarcasm_dataset.json \\\n",
        "    -O sarcasm_classifier_dataset.json\n"
      ],
      "metadata": {
        "colab": {
          "base_uri": "https://localhost:8080/"
        },
        "id": "Zopo1o47jeTf",
        "outputId": "cd898871-09ef-4c71-cb2b-1f5115f0622e"
      },
      "execution_count": 2,
      "outputs": [
        {
          "output_type": "stream",
          "name": "stdout",
          "text": [
            "--2022-08-30 20:50:36--  https://raw.githubusercontent.com/prikarsartam/training_datasets/main/sarcasm_dataset.json\n",
            "Resolving raw.githubusercontent.com (raw.githubusercontent.com)... 185.199.108.133, 185.199.109.133, 185.199.110.133, ...\n",
            "Connecting to raw.githubusercontent.com (raw.githubusercontent.com)|185.199.108.133|:443... connected.\n",
            "HTTP request sent, awaiting response... 200 OK\n",
            "Length: 6057046 (5.8M) [text/plain]\n",
            "Saving to: ‘sarcasm_classifier_dataset.json’\n",
            "\n",
            "sarcasm_classifier_ 100%[===================>]   5.78M  --.-KB/s    in 0.04s   \n",
            "\n",
            "2022-08-30 20:50:36 (164 MB/s) - ‘sarcasm_classifier_dataset.json’ saved [6057046/6057046]\n",
            "\n"
          ]
        }
      ]
    },
    {
      "cell_type": "code",
      "source": [
        "datastore = [json.loads(line) for line in open('sarcasm_classifier_dataset.json', 'r')]\n",
        "\n",
        "sentences = []\n",
        "labels = []\n",
        "\n",
        "for item in datastore:\n",
        "    sentences.append(item['headline'])\n",
        "    labels.append(item['is_sarcastic'])"
      ],
      "metadata": {
        "id": "keY4jNu4phwE"
      },
      "execution_count": 6,
      "outputs": []
    },
    {
      "cell_type": "code",
      "source": [
        "training_sentences = sentences[0:training_size]\n",
        "testing_sentences = sentences[training_size:]\n",
        "\n",
        "training_labels = labels[0:training_size]\n",
        "testing_labels = labels[training_size:]"
      ],
      "metadata": {
        "id": "_ZRaKoScmQAg"
      },
      "execution_count": 7,
      "outputs": []
    },
    {
      "cell_type": "code",
      "source": [
        "tokenizer = Tokenizer(num_words=vocab_size, oov_token=oov_tok)\n",
        "tokenizer.fit_on_texts(training_sentences)\n",
        "\n",
        "word_index = tokenizer.word_index\n",
        "\n",
        "training_sequences = tokenizer.texts_to_sequences(training_sentences)\n",
        "training_padded = pad_sequences(training_sequences, maxlen=max_length, padding=padding_type, truncating=trunc_type)\n",
        "\n",
        "testing_sequences = tokenizer.texts_to_sequences(testing_sentences)\n",
        "testing_padded = pad_sequences(testing_sequences, maxlen=max_length, padding=padding_type, truncating=trunc_type)"
      ],
      "metadata": {
        "id": "jShyNVXJpp7f"
      },
      "execution_count": 8,
      "outputs": []
    },
    {
      "cell_type": "code",
      "source": [
        "# Need this block to get it to work with TensorFlow 2.x\n",
        "import numpy as np\n",
        "training_padded = np.array(training_padded)\n",
        "training_labels = np.array(training_labels)\n",
        "testing_padded = np.array(testing_padded)\n",
        "testing_labels = np.array(testing_labels)"
      ],
      "metadata": {
        "id": "eTSre40iqV69"
      },
      "execution_count": 9,
      "outputs": []
    },
    {
      "cell_type": "code",
      "source": [
        "# non LSTM model with comparetively LOW number of parameters \n",
        "\n",
        "model = tf.keras.Sequential([\n",
        "    tf.keras.layers.Embedding(vocab_size, embedding_dim, input_length=max_length),\n",
        "    tf.keras.layers.GlobalAveragePooling1D(),\n",
        "    tf.keras.layers.Dense(24, activation='relu'),\n",
        "    tf.keras.layers.Dense(1, activation='sigmoid')\n",
        "])\n",
        "\n",
        "model.compile(loss='binary_crossentropy',optimizer='adam',metrics=['accuracy'])\n",
        "model.summary()\n",
        "\n"
      ],
      "metadata": {
        "colab": {
          "base_uri": "https://localhost:8080/"
        },
        "id": "6ZoggIaTdS3H",
        "outputId": "203b3029-2ea3-4df0-9458-169499bb76bc"
      },
      "execution_count": 14,
      "outputs": [
        {
          "output_type": "stream",
          "name": "stdout",
          "text": [
            "Model: \"sequential_2\"\n",
            "_________________________________________________________________\n",
            " Layer (type)                Output Shape              Param #   \n",
            "=================================================================\n",
            " embedding_2 (Embedding)     (None, 200, 20)           200000    \n",
            "                                                                 \n",
            " global_average_pooling1d_1   (None, 20)               0         \n",
            " (GlobalAveragePooling1D)                                        \n",
            "                                                                 \n",
            " dense_4 (Dense)             (None, 24)                504       \n",
            "                                                                 \n",
            " dense_5 (Dense)             (None, 1)                 25        \n",
            "                                                                 \n",
            "=================================================================\n",
            "Total params: 200,529\n",
            "Trainable params: 200,529\n",
            "Non-trainable params: 0\n",
            "_________________________________________________________________\n"
          ]
        }
      ]
    },
    {
      "cell_type": "code",
      "source": [
        "# LSTM model with comparetively HIGH number of parameters \n",
        "\n",
        "model = tf.keras.Sequential([\n",
        "    tf.keras.layers.Embedding(vocab_size, embedding_dim, input_length=max_length),\n",
        "    tf.keras.layers.Bidirectional(tf.keras.layers.LSTM(64)),\n",
        "    tf.keras.layers.Dense(64, activation='relu'),\n",
        "    tf.keras.layers.Dense(1, activation='sigmoid')\n",
        "])\n",
        "\n",
        "model.compile(loss='binary_crossentropy',optimizer='adam',metrics=['accuracy'])\n",
        "model.summary()"
      ],
      "metadata": {
        "colab": {
          "base_uri": "https://localhost:8080/"
        },
        "id": "ldkdUZqKp9F4",
        "outputId": "5398fcea-be4b-4cfa-b1d2-fd68ba7bddd1"
      },
      "execution_count": 16,
      "outputs": [
        {
          "output_type": "stream",
          "name": "stdout",
          "text": [
            "Model: \"sequential_3\"\n",
            "_________________________________________________________________\n",
            " Layer (type)                Output Shape              Param #   \n",
            "=================================================================\n",
            " embedding_3 (Embedding)     (None, 200, 20)           200000    \n",
            "                                                                 \n",
            " bidirectional_1 (Bidirectio  (None, 128)              43520     \n",
            " nal)                                                            \n",
            "                                                                 \n",
            " dense_6 (Dense)             (None, 64)                8256      \n",
            "                                                                 \n",
            " dense_7 (Dense)             (None, 1)                 65        \n",
            "                                                                 \n",
            "=================================================================\n",
            "Total params: 251,841\n",
            "Trainable params: 251,841\n",
            "Non-trainable params: 0\n",
            "_________________________________________________________________\n"
          ]
        }
      ]
    },
    {
      "cell_type": "code",
      "source": [
        "num_epochs = 30\n",
        "history = model.fit(training_padded, training_labels, epochs=num_epochs, validation_data=(testing_padded, testing_labels), verbose=2)"
      ],
      "metadata": {
        "colab": {
          "base_uri": "https://localhost:8080/"
        },
        "id": "RWEfVVSNdWOx",
        "outputId": "7602e048-ed34-41fd-d4ca-dbfe5065cc90"
      },
      "execution_count": 17,
      "outputs": [
        {
          "output_type": "stream",
          "name": "stdout",
          "text": [
            "Epoch 1/30\n",
            "625/625 - 80s - loss: 0.4038 - accuracy: 0.8029 - val_loss: 0.3159 - val_accuracy: 0.8581 - 80s/epoch - 129ms/step\n",
            "Epoch 2/30\n",
            "625/625 - 72s - loss: 0.2094 - accuracy: 0.9151 - val_loss: 0.3342 - val_accuracy: 0.8550 - 72s/epoch - 115ms/step\n",
            "Epoch 3/30\n",
            "625/625 - 71s - loss: 0.1230 - accuracy: 0.9542 - val_loss: 0.3954 - val_accuracy: 0.8510 - 71s/epoch - 113ms/step\n",
            "Epoch 4/30\n",
            "625/625 - 72s - loss: 0.0730 - accuracy: 0.9746 - val_loss: 0.4834 - val_accuracy: 0.8479 - 72s/epoch - 116ms/step\n",
            "Epoch 5/30\n",
            "625/625 - 72s - loss: 0.0425 - accuracy: 0.9857 - val_loss: 0.6385 - val_accuracy: 0.8414 - 72s/epoch - 115ms/step\n",
            "Epoch 6/30\n",
            "625/625 - 71s - loss: 0.0282 - accuracy: 0.9908 - val_loss: 0.6773 - val_accuracy: 0.8405 - 71s/epoch - 113ms/step\n",
            "Epoch 7/30\n",
            "625/625 - 72s - loss: 0.0176 - accuracy: 0.9940 - val_loss: 0.9964 - val_accuracy: 0.8311 - 72s/epoch - 116ms/step\n",
            "Epoch 8/30\n",
            "625/625 - 72s - loss: 0.0164 - accuracy: 0.9939 - val_loss: 0.9769 - val_accuracy: 0.8376 - 72s/epoch - 115ms/step\n",
            "Epoch 9/30\n",
            "625/625 - 71s - loss: 0.0116 - accuracy: 0.9960 - val_loss: 0.9678 - val_accuracy: 0.8270 - 71s/epoch - 114ms/step\n",
            "Epoch 10/30\n",
            "625/625 - 72s - loss: 0.0108 - accuracy: 0.9963 - val_loss: 0.9110 - val_accuracy: 0.8332 - 72s/epoch - 115ms/step\n",
            "Epoch 11/30\n",
            "625/625 - 72s - loss: 0.0084 - accuracy: 0.9974 - val_loss: 1.0315 - val_accuracy: 0.8393 - 72s/epoch - 115ms/step\n",
            "Epoch 12/30\n",
            "625/625 - 72s - loss: 0.0030 - accuracy: 0.9992 - val_loss: 1.3345 - val_accuracy: 0.8370 - 72s/epoch - 114ms/step\n",
            "Epoch 13/30\n",
            "625/625 - 72s - loss: 0.0063 - accuracy: 0.9977 - val_loss: 1.1447 - val_accuracy: 0.8321 - 72s/epoch - 114ms/step\n",
            "Epoch 14/30\n",
            "625/625 - 72s - loss: 0.0081 - accuracy: 0.9977 - val_loss: 0.9872 - val_accuracy: 0.8369 - 72s/epoch - 116ms/step\n",
            "Epoch 15/30\n",
            "625/625 - 72s - loss: 0.0043 - accuracy: 0.9985 - val_loss: 1.2546 - val_accuracy: 0.8358 - 72s/epoch - 115ms/step\n",
            "Epoch 16/30\n",
            "625/625 - 72s - loss: 0.0433 - accuracy: 0.9922 - val_loss: 1.1592 - val_accuracy: 0.8394 - 72s/epoch - 115ms/step\n",
            "Epoch 17/30\n",
            "625/625 - 73s - loss: 0.0030 - accuracy: 0.9991 - val_loss: 1.4258 - val_accuracy: 0.8334 - 73s/epoch - 116ms/step\n",
            "Epoch 18/30\n",
            "625/625 - 73s - loss: 0.0026 - accuracy: 0.9992 - val_loss: 1.5664 - val_accuracy: 0.8279 - 73s/epoch - 116ms/step\n",
            "Epoch 19/30\n",
            "625/625 - 71s - loss: 0.0015 - accuracy: 0.9996 - val_loss: 1.6886 - val_accuracy: 0.8253 - 71s/epoch - 113ms/step\n",
            "Epoch 20/30\n",
            "625/625 - 72s - loss: 0.0027 - accuracy: 0.9991 - val_loss: 1.5487 - val_accuracy: 0.8229 - 72s/epoch - 116ms/step\n",
            "Epoch 21/30\n",
            "625/625 - 73s - loss: 0.0037 - accuracy: 0.9988 - val_loss: 1.3059 - val_accuracy: 0.8326 - 73s/epoch - 117ms/step\n",
            "Epoch 22/30\n",
            "625/625 - 72s - loss: 0.0023 - accuracy: 0.9992 - val_loss: 1.4686 - val_accuracy: 0.8303 - 72s/epoch - 115ms/step\n",
            "Epoch 23/30\n",
            "625/625 - 73s - loss: 0.0021 - accuracy: 0.9995 - val_loss: 1.5770 - val_accuracy: 0.8325 - 73s/epoch - 118ms/step\n",
            "Epoch 24/30\n",
            "625/625 - 73s - loss: 0.0020 - accuracy: 0.9995 - val_loss: 1.4990 - val_accuracy: 0.8314 - 73s/epoch - 116ms/step\n",
            "Epoch 25/30\n",
            "625/625 - 72s - loss: 0.0039 - accuracy: 0.9987 - val_loss: 1.4147 - val_accuracy: 0.8306 - 72s/epoch - 116ms/step\n",
            "Epoch 26/30\n",
            "625/625 - 73s - loss: 0.0035 - accuracy: 0.9991 - val_loss: 1.4823 - val_accuracy: 0.8288 - 73s/epoch - 116ms/step\n",
            "Epoch 27/30\n",
            "625/625 - 73s - loss: 0.0025 - accuracy: 0.9992 - val_loss: 1.4757 - val_accuracy: 0.8195 - 73s/epoch - 116ms/step\n",
            "Epoch 28/30\n",
            "625/625 - 72s - loss: 0.0012 - accuracy: 0.9997 - val_loss: 1.5166 - val_accuracy: 0.8275 - 72s/epoch - 115ms/step\n",
            "Epoch 29/30\n",
            "625/625 - 72s - loss: 0.0013 - accuracy: 0.9996 - val_loss: 1.5267 - val_accuracy: 0.8289 - 72s/epoch - 115ms/step\n",
            "Epoch 30/30\n",
            "625/625 - 73s - loss: 0.0017 - accuracy: 0.9996 - val_loss: 1.4109 - val_accuracy: 0.8256 - 73s/epoch - 117ms/step\n"
          ]
        }
      ]
    },
    {
      "cell_type": "code",
      "source": [
        "import matplotlib.pyplot as plt\n",
        "\n",
        "\n",
        "def plot_graphs(history, string):\n",
        "  plt.plot(history.history[string])\n",
        "  plt.plot(history.history['val_'+string])\n",
        "  plt.xlabel(\"Epochs\")\n",
        "  plt.ylabel(string)\n",
        "  plt.legend([string, 'val_'+string])\n",
        "  plt.show()\n",
        "  \n",
        "plot_graphs(history, \"accuracy\")\n",
        "plot_graphs(history, \"loss\")"
      ],
      "metadata": {
        "colab": {
          "base_uri": "https://localhost:8080/",
          "height": 543
        },
        "id": "nr38MJJ5dYFa",
        "outputId": "33e6ae15-71ae-4403-eaff-74d81d1492d8"
      },
      "execution_count": 18,
      "outputs": [
        {
          "output_type": "display_data",
          "data": {
            "text/plain": [
              "<Figure size 432x288 with 1 Axes>"
            ],
            "image/png": "[encoded data removed]"
          },
          "metadata": {
            "needs_background": "light"
          }
        },
        {
          "output_type": "display_data",
          "data": {
            "text/plain": [
              "<Figure size 432x288 with 1 Axes>"
            ],
            "image/png": "[encoded data removed]"
          },
          "metadata": {
            "needs_background": "light"
          }
        }
      ]
    },
    {
      "cell_type": "code",
      "source": [
        "reverse_word_index = dict([(value, key) for (key, value) in word_index.items()])\n",
        "\n",
        "def decode_sentence(text):\n",
        "    return ' '.join([reverse_word_index.get(i, '?') for i in text])\n",
        "\n",
        "print(decode_sentence(training_padded[0]))\n",
        "print(training_sentences[2])\n",
        "print(labels[2])"
      ],
      "metadata": {
        "colab": {
          "base_uri": "https://localhost:8080/"
        },
        "id": "uNS1VsPydnu9",
        "outputId": "1b62e796-4e39-485e-a80c-deecced8c882"
      },
      "execution_count": 19,
      "outputs": [
        {
          "output_type": "stream",
          "name": "stdout",
          "text": [
            "<OOV> scientists unveil doomsday clock of hair loss ? ? ? ? ? ? ? ? ? ? ? ? ? ? ? ? ? ? ? ? ? ? ? ? ? ? ? ? ? ? ? ? ? ? ? ? ? ? ? ? ? ? ? ? ? ? ? ? ? ? ? ? ? ? ? ? ? ? ? ? ? ? ? ? ? ? ? ? ? ? ? ? ? ? ? ? ? ? ? ? ? ? ? ? ? ? ? ? ? ? ? ? ? ? ? ? ? ? ? ? ? ? ? ? ? ? ? ? ? ? ? ? ? ? ? ? ? ? ? ? ? ? ? ? ? ? ? ? ? ? ? ? ? ? ? ? ? ? ? ? ? ? ? ? ? ? ? ? ? ? ? ? ? ? ? ? ? ? ? ? ? ? ? ? ? ? ? ? ? ? ? ? ? ? ? ? ? ? ? ? ? ? ? ? ? ? ? ? ? ? ? ?\n",
            "eat your veggies: 9 deliciously different recipes\n",
            "0\n"
          ]
        }
      ]
    },
    {
      "cell_type": "code",
      "source": [
        "e = model.layers[0]\n",
        "weights = e.get_weights()[0]\n",
        "\n",
        "print(weights)\n",
        "\n",
        "print(weights.shape) # shape: (vocab_size, embedding_dim)"
      ],
      "metadata": {
        "colab": {
          "base_uri": "https://localhost:8080/"
        },
        "id": "c5pMNELvds4y",
        "outputId": "7ef45e9f-f702-4aa4-a410-6ffe0291b5f7"
      },
      "execution_count": 20,
      "outputs": [
        {
          "output_type": "stream",
          "name": "stdout",
          "text": [
            "[[-0.00552408  0.05878906  0.00401659 ... -0.01009426 -0.00782012\n",
            "  -0.10627296]\n",
            " [ 0.01552948 -0.00410151 -0.0289727  ... -0.00890093  0.02420226\n",
            "   0.00483764]\n",
            " [ 0.07627809 -0.00253337  0.01737423 ...  0.06715222  0.0652498\n",
            "   0.04161514]\n",
            " ...\n",
            " [-0.10940222  0.01587684 -0.03893879 ... -0.08364195 -0.06136721\n",
            "   0.00168721]\n",
            " [ 0.04797405 -0.12345733 -0.09139848 ...  0.0758003   0.01523671\n",
            "   0.06569206]\n",
            " [ 0.04817487 -0.12695833 -0.09506658 ...  0.02994963 -0.06340925\n",
            "   0.04729394]]\n",
            "(10000, 20)\n"
          ]
        }
      ]
    },
    {
      "cell_type": "code",
      "source": [
        "e = model.layers[0]\n",
        "weights = e.get_weights()[0]\n",
        "\n",
        "print(weights)\n",
        "\n",
        "print(weights.shape) # shape: (vocab_size, embedding_dim)"
      ],
      "metadata": {
        "colab": {
          "base_uri": "https://localhost:8080/"
        },
        "id": "t0JvujQPduoM",
        "outputId": "4af3db75-dea5-49c4-87ae-e9880513c4ff"
      },
      "execution_count": 21,
      "outputs": [
        {
          "output_type": "stream",
          "name": "stdout",
          "text": [
            "[[-0.00552408  0.05878906  0.00401659 ... -0.01009426 -0.00782012\n",
            "  -0.10627296]\n",
            " [ 0.01552948 -0.00410151 -0.0289727  ... -0.00890093  0.02420226\n",
            "   0.00483764]\n",
            " [ 0.07627809 -0.00253337  0.01737423 ...  0.06715222  0.0652498\n",
            "   0.04161514]\n",
            " ...\n",
            " [-0.10940222  0.01587684 -0.03893879 ... -0.08364195 -0.06136721\n",
            "   0.00168721]\n",
            " [ 0.04797405 -0.12345733 -0.09139848 ...  0.0758003   0.01523671\n",
            "   0.06569206]\n",
            " [ 0.04817487 -0.12695833 -0.09506658 ...  0.02994963 -0.06340925\n",
            "   0.04729394]]\n",
            "(10000, 20)\n"
          ]
        }
      ]
    },
    {
      "cell_type": "code",
      "source": [
        "import io\n",
        "\n",
        "out_v = io.open('vecs.json', 'w', encoding='utf-8')\n",
        "out_m = io.open('meta.json', 'w', encoding='utf-8')\n",
        "for word_num in range(1, vocab_size):\n",
        "  word = reverse_word_index[word_num]\n",
        "  embeddings = weights[word_num]\n",
        "  out_m.write(word + \"\\n\")\n",
        "  out_v.write('\\t'.join([str(x) for x in embeddings]) + \"\\n\")\n",
        "out_v.close()\n",
        "out_m.close()"
      ],
      "metadata": {
        "id": "UcIVcBa1frfr"
      },
      "execution_count": 22,
      "outputs": []
    },
    {
      "cell_type": "code",
      "source": [
        "try:\n",
        "  from google.colab import files\n",
        "except ImportError:\n",
        "  pass\n",
        "else:\n",
        "  files.download('vecs.json')\n",
        "  files.download('meta.json')"
      ],
      "metadata": {
        "colab": {
          "base_uri": "https://localhost:8080/",
          "height": 17
        },
        "id": "HR_68zidgdGf",
        "outputId": "c1b8ea86-36a6-44c4-fffa-7ea3ab92ce1a"
      },
      "execution_count": 23,
      "outputs": [
        {
          "output_type": "display_data",
          "data": {
            "text/plain": [
              "<IPython.core.display.Javascript object>"
            ],
            "application/javascript": [
              "\n",
              "    async function download(id, filename, size) {\n",
              "      if (!google.colab.kernel.accessAllowed) {\n",
              "        return;\n",
              "      }\n",
              "      const div = document.createElement('div');\n",
              "      const label = document.createElement('label');\n",
              "      label.textContent = `Downloading \"${filename}\": `;\n",
              "      div.appendChild(label);\n",
              "      const progress = document.createElement('progress');\n",
              "      progress.max = size;\n",
              "      div.appendChild(progress);\n",
              "      document.body.appendChild(div);\n",
              "\n",
              "      const buffers = [];\n",
              "      let downloaded = 0;\n",
              "\n",
              "      const channel = await google.colab.kernel.comms.open(id);\n",
              "      // Send a message to notify the kernel that we're ready.\n",
              "      channel.send({})\n",
              "\n",
              "      for await (const message of channel.messages) {\n",
              "        // Send a message to notify the kernel that we're ready.\n",
              "        channel.send({})\n",
              "        if (message.buffers) {\n",
              "          for (const buffer of message.buffers) {\n",
              "            buffers.push(buffer);\n",
              "            downloaded += buffer.byteLength;\n",
              "            progress.value = downloaded;\n",
              "          }\n",
              "        }\n",
              "      }\n",
              "      const blob = new Blob(buffers, {type: 'application/binary'});\n",
              "      const a = document.createElement('a');\n",
              "      a.href = window.URL.createObjectURL(blob);\n",
              "      a.download = filename;\n",
              "      div.appendChild(a);\n",
              "      a.click();\n",
              "      div.remove();\n",
              "    }\n",
              "  "
            ]
          },
          "metadata": {}
        },
        {
          "output_type": "display_data",
          "data": {
            "text/plain": [
              "<IPython.core.display.Javascript object>"
            ],
            "application/javascript": [
              "download(\"download_0e74e74b-322c-4f18-a50e-72e64853f6b4\", \"vecs.json\", 2380794)"
            ]
          },
          "metadata": {}
        },
        {
          "output_type": "display_data",
          "data": {
            "text/plain": [
              "<IPython.core.display.Javascript object>"
            ],
            "application/javascript": [
              "\n",
              "    async function download(id, filename, size) {\n",
              "      if (!google.colab.kernel.accessAllowed) {\n",
              "        return;\n",
              "      }\n",
              "      const div = document.createElement('div');\n",
              "      const label = document.createElement('label');\n",
              "      label.textContent = `Downloading \"${filename}\": `;\n",
              "      div.appendChild(label);\n",
              "      const progress = document.createElement('progress');\n",
              "      progress.max = size;\n",
              "      div.appendChild(progress);\n",
              "      document.body.appendChild(div);\n",
              "\n",
              "      const buffers = [];\n",
              "      let downloaded = 0;\n",
              "\n",
              "      const channel = await google.colab.kernel.comms.open(id);\n",
              "      // Send a message to notify the kernel that we're ready.\n",
              "      channel.send({})\n",
              "\n",
              "      for await (const message of channel.messages) {\n",
              "        // Send a message to notify the kernel that we're ready.\n",
              "        channel.send({})\n",
              "        if (message.buffers) {\n",
              "          for (const buffer of message.buffers) {\n",
              "            buffers.push(buffer);\n",
              "            downloaded += buffer.byteLength;\n",
              "            progress.value = downloaded;\n",
              "          }\n",
              "        }\n",
              "      }\n",
              "      const blob = new Blob(buffers, {type: 'application/binary'});\n",
              "      const a = document.createElement('a');\n",
              "      a.href = window.URL.createObjectURL(blob);\n",
              "      a.download = filename;\n",
              "      div.appendChild(a);\n",
              "      a.click();\n",
              "      div.remove();\n",
              "    }\n",
              "  "
            ]
          },
          "metadata": {}
        },
        {
          "output_type": "display_data",
          "data": {
            "text/plain": [
              "<IPython.core.display.Javascript object>"
            ],
            "application/javascript": [
              "download(\"download_43081615-da2f-43e4-9f6b-df52b70af835\", \"meta.json\", 76033)"
            ]
          },
          "metadata": {}
        }
      ]
    },
    {
      "cell_type": "code",
      "source": [
        "no_of_sentences = int(input(\"Enter the number of sentences you want as input: \"))\n",
        "\n",
        "sentence = []\n",
        "\n",
        "for i in range(0,no_of_sentences):\n",
        "  sentence.append(str(input(\"Enter sentence: \")))\n",
        "\n",
        "print(\"\\n\\n\")\n",
        "\n",
        "# sentence = [\"granny starting to fear spiders in the garden might be real\", \"game of thrones season finale showing this sunday night\"]\n",
        "\n",
        "sequences = tokenizer.texts_to_sequences(sentence)\n",
        "padded = pad_sequences(sequences, maxlen=max_length, padding=padding_type, truncating=trunc_type)\n",
        "print(model.predict(padded))\n",
        "\n"
      ],
      "metadata": {
        "colab": {
          "base_uri": "https://localhost:8080/"
        },
        "id": "o3ZkVgZiggGW",
        "outputId": "3777292c-04c7-4a21-ba3b-5b48970da9c1"
      },
      "execution_count": 38,
      "outputs": [
        {
          "output_type": "stream",
          "name": "stdout",
          "text": [
            "Enter the number of sentences you want as input: 2\n",
            "Enter sentence: fuckers suck\n",
            "Enter sentence: suckers fuck\n",
            "[[0.9997004]\n",
            " [0.9999906]]\n"
          ]
        }
      ]
    },
    {
      "cell_type": "code",
      "source": [
        "from tensorflow.keras.models import load_model"
      ],
      "metadata": {
        "id": "80Dz_H2uq-2Y"
      },
      "execution_count": 26,
      "outputs": []
    },
    {
      "cell_type": "code",
      "source": [
        "model.save('/content/drive/MyDrive/sarcasm_classifier_model/sarcasm_classifier_model.h5')"
      ],
      "metadata": {
        "id": "6B2pwbbdrNnH"
      },
      "execution_count": 27,
      "outputs": []
    }
  ]
}
